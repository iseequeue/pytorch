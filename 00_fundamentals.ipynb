{
  "nbformat": 4,
  "nbformat_minor": 0,
  "metadata": {
    "colab": {
      "provenance": [],
      "authorship_tag": "ABX9TyNuyl5P/2VDelqV+BESLNWb",
      "include_colab_link": true
    },
    "kernelspec": {
      "name": "python3",
      "display_name": "Python 3"
    },
    "language_info": {
      "name": "python"
    },
    "accelerator": "GPU",
    "gpuClass": "standard"
  },
  "cells": [
    {
      "cell_type": "markdown",
      "metadata": {
        "id": "view-in-github",
        "colab_type": "text"
      },
      "source": [
        "<a href=\"https://colab.research.google.com/github/iseequeue/pytorch/blob/main/00_fundamentals.ipynb\" target=\"_parent\"><img src=\"https://colab.research.google.com/assets/colab-badge.svg\" alt=\"Open In Colab\"/></a>"
      ]
    },
    {
      "cell_type": "code",
      "execution_count": 1,
      "metadata": {
        "colab": {
          "base_uri": "https://localhost:8080/"
        },
        "id": "eofsrEMrMU5b",
        "outputId": "26887c6e-9ed7-4882-883e-feb53eaf30eb"
      },
      "outputs": [
        {
          "output_type": "stream",
          "name": "stdout",
          "text": [
            "Fri Mar  3 12:53:26 2023       \n",
            "+-----------------------------------------------------------------------------+\n",
            "| NVIDIA-SMI 525.85.12    Driver Version: 525.85.12    CUDA Version: 12.0     |\n",
            "|-------------------------------+----------------------+----------------------+\n",
            "| GPU  Name        Persistence-M| Bus-Id        Disp.A | Volatile Uncorr. ECC |\n",
            "| Fan  Temp  Perf  Pwr:Usage/Cap|         Memory-Usage | GPU-Util  Compute M. |\n",
            "|                               |                      |               MIG M. |\n",
            "|===============================+======================+======================|\n",
            "|   0  Tesla T4            Off  | 00000000:00:04.0 Off |                    0 |\n",
            "| N/A   50C    P0    25W /  70W |      0MiB / 15360MiB |      0%      Default |\n",
            "|                               |                      |                  N/A |\n",
            "+-------------------------------+----------------------+----------------------+\n",
            "                                                                               \n",
            "+-----------------------------------------------------------------------------+\n",
            "| Processes:                                                                  |\n",
            "|  GPU   GI   CI        PID   Type   Process name                  GPU Memory |\n",
            "|        ID   ID                                                   Usage      |\n",
            "|=============================================================================|\n",
            "|  No running processes found                                                 |\n",
            "+-----------------------------------------------------------------------------+\n"
          ]
        }
      ],
      "source": [
        "!nvidia-smi"
      ]
    },
    {
      "cell_type": "code",
      "source": [
        "import torch\n",
        "torch.__version__"
      ],
      "metadata": {
        "colab": {
          "base_uri": "https://localhost:8080/",
          "height": 36
        },
        "id": "as5FuPj0MtFw",
        "outputId": "d52976e8-cfdd-4d35-f7e2-66224d26e368"
      },
      "execution_count": 2,
      "outputs": [
        {
          "output_type": "execute_result",
          "data": {
            "text/plain": [
              "'1.13.1+cu116'"
            ],
            "application/vnd.google.colaboratory.intrinsic+json": {
              "type": "string"
            }
          },
          "metadata": {},
          "execution_count": 2
        }
      ]
    },
    {
      "cell_type": "code",
      "source": [
        "import pandas as pd\n",
        "import numpy as np\n",
        "import matplotlib.pyplot as plt"
      ],
      "metadata": {
        "id": "2zTgPpYpNH-i"
      },
      "execution_count": 3,
      "outputs": []
    },
    {
      "cell_type": "markdown",
      "source": [
        "# Intro to tensor"
      ],
      "metadata": {
        "id": "VlVhowoNN19d"
      }
    },
    {
      "cell_type": "code",
      "source": [
        "scalar = torch.tensor(7)\n",
        "print(scalar)\n",
        "vector = torch.tensor([7, 7])\n",
        "print(vector)\n",
        "MATRIX = torch.tensor([ [1, 2], \n",
        "                       [3, 4]])\n",
        "print(MATRIX)"
      ],
      "metadata": {
        "colab": {
          "base_uri": "https://localhost:8080/"
        },
        "id": "Ax9U-PvUN5l7",
        "outputId": "eba50cfc-c547-448d-f91e-496c2f55bb95"
      },
      "execution_count": 4,
      "outputs": [
        {
          "output_type": "stream",
          "name": "stdout",
          "text": [
            "tensor(7)\n",
            "tensor([7, 7])\n",
            "tensor([[1, 2],\n",
            "        [3, 4]])\n"
          ]
        }
      ]
    },
    {
      "cell_type": "code",
      "source": [
        "scalar.item()"
      ],
      "metadata": {
        "colab": {
          "base_uri": "https://localhost:8080/"
        },
        "id": "X5DjaLmZY0br",
        "outputId": "2bdb988f-f29f-4d13-c44f-5fb848e63777"
      },
      "execution_count": 5,
      "outputs": [
        {
          "output_type": "execute_result",
          "data": {
            "text/plain": [
              "7"
            ]
          },
          "metadata": {},
          "execution_count": 5
        }
      ]
    },
    {
      "cell_type": "code",
      "source": [
        "print(MATRIX.ndim)\n",
        "print(MATRIX.shape)"
      ],
      "metadata": {
        "colab": {
          "base_uri": "https://localhost:8080/"
        },
        "id": "nya_pz1qOHRr",
        "outputId": "0455d8ff-1e36-490c-e953-6af17c536486"
      },
      "execution_count": 6,
      "outputs": [
        {
          "output_type": "stream",
          "name": "stdout",
          "text": [
            "2\n",
            "torch.Size([2, 2])\n"
          ]
        }
      ]
    },
    {
      "cell_type": "code",
      "source": [
        "# TENSOR\n",
        "TENSOR = torch.tensor([[[1, 2, 3],\n",
        "                        [4, 5, 6],\n",
        "                        [7, 8, 9]]])\n",
        "print(TENSOR, TENSOR.ndim, TENSOR.shape )\n",
        "TENSOR[0]"
      ],
      "metadata": {
        "colab": {
          "base_uri": "https://localhost:8080/"
        },
        "id": "rerLAbqjONlx",
        "outputId": "6e8849e8-95b9-4393-cfee-4cd29bd3058d"
      },
      "execution_count": 7,
      "outputs": [
        {
          "output_type": "stream",
          "name": "stdout",
          "text": [
            "tensor([[[1, 2, 3],\n",
            "         [4, 5, 6],\n",
            "         [7, 8, 9]]]) 3 torch.Size([1, 3, 3])\n"
          ]
        },
        {
          "output_type": "execute_result",
          "data": {
            "text/plain": [
              "tensor([[1, 2, 3],\n",
              "        [4, 5, 6],\n",
              "        [7, 8, 9]])"
            ]
          },
          "metadata": {},
          "execution_count": 7
        }
      ]
    },
    {
      "cell_type": "markdown",
      "source": [
        "### Random tensor"
      ],
      "metadata": {
        "id": "mlVsXHUhQaE3"
      }
    },
    {
      "cell_type": "code",
      "source": [
        "random_tensor = torch.rand(3, 4)\n",
        "random_tensor "
      ],
      "metadata": {
        "colab": {
          "base_uri": "https://localhost:8080/"
        },
        "id": "rlhpdjhTQWLS",
        "outputId": "d2d230cd-4270-4443-8860-2b0eec4e9562"
      },
      "execution_count": 8,
      "outputs": [
        {
          "output_type": "execute_result",
          "data": {
            "text/plain": [
              "tensor([[0.8889, 0.7396, 0.8181, 0.0524],\n",
              "        [0.6057, 0.6757, 0.6237, 0.2334],\n",
              "        [0.6972, 0.4076, 0.7707, 0.8748]])"
            ]
          },
          "metadata": {},
          "execution_count": 8
        }
      ]
    },
    {
      "cell_type": "code",
      "source": [
        "random_image_tensor = torch.rand(size=(224, 224, 3))*256 #height, width, colors RGB\n",
        "random_image_tensor.ndim, random_image_tensor.shape, random_image_tensor"
      ],
      "metadata": {
        "colab": {
          "base_uri": "https://localhost:8080/"
        },
        "id": "LGmO76xuQris",
        "outputId": "eace7751-a594-48c5-fdf1-8fcc56b22e9e"
      },
      "execution_count": 9,
      "outputs": [
        {
          "output_type": "execute_result",
          "data": {
            "text/plain": [
              "(3, torch.Size([224, 224, 3]), tensor([[[198.0621,  38.5637, 112.9176],\n",
              "          [ 60.3450,  99.0155,  35.5921],\n",
              "          [102.6625,  77.8804,  89.4562],\n",
              "          ...,\n",
              "          [164.8963, 124.1711, 155.9382],\n",
              "          [186.8041, 217.8608,  17.3276],\n",
              "          [153.6959,   2.4015, 142.4336]],\n",
              " \n",
              "         [[244.1767, 212.0388, 139.0066],\n",
              "          [ 14.2911,  74.8039, 115.3737],\n",
              "          [103.6790,  51.5659,  42.4862],\n",
              "          ...,\n",
              "          [189.2498, 163.4261,  68.3125],\n",
              "          [  8.4630,  62.6019, 253.3285],\n",
              "          [ 45.4773,  83.2363,  36.4483]],\n",
              " \n",
              "         [[ 88.5624, 178.0847,  14.0709],\n",
              "          [ 50.0391, 223.1153, 140.4644],\n",
              "          [ 87.5183,  22.9699, 109.6750],\n",
              "          ...,\n",
              "          [188.5256,  48.8217, 225.3058],\n",
              "          [ 70.3485,  57.6418, 114.1523],\n",
              "          [164.7187,  22.6947,  24.0592]],\n",
              " \n",
              "         ...,\n",
              " \n",
              "         [[ 16.8356,   2.1400, 157.1228],\n",
              "          [ 12.3920,  70.6854, 220.0670],\n",
              "          [254.3742,  99.1075, 238.2328],\n",
              "          ...,\n",
              "          [104.9240, 181.2311,  66.0081],\n",
              "          [ 88.5260,  31.3130, 125.7152],\n",
              "          [121.9507, 240.4602, 230.6336]],\n",
              " \n",
              "         [[248.2065,   8.9908,  75.8094],\n",
              "          [ 37.6426,  39.4185,   2.3254],\n",
              "          [ 57.7279, 204.7123, 252.8076],\n",
              "          ...,\n",
              "          [222.5161,  16.7525,   4.6881],\n",
              "          [111.4874, 115.4463, 180.7634],\n",
              "          [ 30.5517, 244.1181, 128.0400]],\n",
              " \n",
              "         [[182.9411,  37.7254, 112.2301],\n",
              "          [ 12.6403,  97.9921, 120.7530],\n",
              "          [ 35.7236, 195.7993,   6.4897],\n",
              "          ...,\n",
              "          [ 83.1550, 111.4499, 151.3452],\n",
              "          [139.0468, 114.0461, 143.8251],\n",
              "          [241.7233, 238.4728, 159.7955]]]))"
            ]
          },
          "metadata": {},
          "execution_count": 9
        }
      ]
    },
    {
      "cell_type": "code",
      "source": [
        "from google.colab.patches import cv2_imshow"
      ],
      "metadata": {
        "id": "0o93deIYRp9j"
      },
      "execution_count": 10,
      "outputs": []
    },
    {
      "cell_type": "code",
      "source": [
        "cv2_imshow(np.array(random_image_tensor, dtype=np.uint8))"
      ],
      "metadata": {
        "colab": {
          "base_uri": "https://localhost:8080/",
          "height": 241
        },
        "id": "_4q1eOkVRyBE",
        "outputId": "47574d47-df92-488d-ca94-4838ee65b857"
      },
      "execution_count": 11,
      "outputs": [
        {
          "output_type": "display_data",
          "data": {
            "text/plain": [
              "<PIL.Image.Image image mode=RGB size=224x224 at 0x7F58A6D99B80>"
            ],
            "image/png": "[encoded data removed]"
          },
          "metadata": {}
        }
      ]
    },
    {
      "cell_type": "markdown",
      "source": [
        "## Zeros and ones"
      ],
      "metadata": {
        "id": "M-zpLcp2T2I0"
      }
    },
    {
      "cell_type": "code",
      "source": [
        "zeros = torch.zeros(size=(3, 4))\n",
        "print(zeros)\n",
        "ones = torch.ones(size=(3, 4))\n",
        "print(ones)\n",
        "print(zeros.dtype, ones.dtype)"
      ],
      "metadata": {
        "colab": {
          "base_uri": "https://localhost:8080/"
        },
        "id": "LzQOoNqqT1qF",
        "outputId": "3b829b49-a923-474f-c10f-a3e6becac5e4"
      },
      "execution_count": 12,
      "outputs": [
        {
          "output_type": "stream",
          "name": "stdout",
          "text": [
            "tensor([[0., 0., 0., 0.],\n",
            "        [0., 0., 0., 0.],\n",
            "        [0., 0., 0., 0.]])\n",
            "tensor([[1., 1., 1., 1.],\n",
            "        [1., 1., 1., 1.],\n",
            "        [1., 1., 1., 1.]])\n",
            "torch.float32 torch.float32\n"
          ]
        }
      ]
    },
    {
      "cell_type": "markdown",
      "source": [
        "## Range tensors"
      ],
      "metadata": {
        "id": "1BZfpgnKUwNd"
      }
    },
    {
      "cell_type": "code",
      "source": [
        "one_to_ten = torch.arange(start=0, end=11, step = 1)\n",
        "one_to_ten"
      ],
      "metadata": {
        "colab": {
          "base_uri": "https://localhost:8080/"
        },
        "id": "y712c3fmSIiX",
        "outputId": "1d5ca596-c25a-4d4a-8bdb-022991be3b0b"
      },
      "execution_count": 13,
      "outputs": [
        {
          "output_type": "execute_result",
          "data": {
            "text/plain": [
              "tensor([ 0,  1,  2,  3,  4,  5,  6,  7,  8,  9, 10])"
            ]
          },
          "metadata": {},
          "execution_count": 13
        }
      ]
    },
    {
      "cell_type": "code",
      "source": [
        "#tensor like\n",
        "ten_zeros = torch.zeros_like(one_to_ten)\n",
        "ten_zeros"
      ],
      "metadata": {
        "colab": {
          "base_uri": "https://localhost:8080/"
        },
        "id": "YeHapwDXVN96",
        "outputId": "77cff094-d3b8-4890-f4c0-1d249dfd21a1"
      },
      "execution_count": 14,
      "outputs": [
        {
          "output_type": "execute_result",
          "data": {
            "text/plain": [
              "tensor([0, 0, 0, 0, 0, 0, 0, 0, 0, 0, 0])"
            ]
          },
          "metadata": {},
          "execution_count": 14
        }
      ]
    },
    {
      "cell_type": "markdown",
      "source": [
        "## Tensor datatypes"
      ],
      "metadata": {
        "id": "u2TYIoTcV1BK"
      }
    },
    {
      "cell_type": "code",
      "source": [
        "t32 = torch.tensor([3.0, 6.0, 9.0],\n",
        "                 dtype=None,  # float32\n",
        "                 device=None, #'cuda' -- must be on the same device\n",
        "                 requires_grad=False)\n",
        "t32"
      ],
      "metadata": {
        "colab": {
          "base_uri": "https://localhost:8080/"
        },
        "id": "udrwlNoNV3lp",
        "outputId": "5c7febb0-5e4f-41ca-da64-319c468fbcc9"
      },
      "execution_count": 15,
      "outputs": [
        {
          "output_type": "execute_result",
          "data": {
            "text/plain": [
              "tensor([3., 6., 9.])"
            ]
          },
          "metadata": {},
          "execution_count": 15
        }
      ]
    },
    {
      "cell_type": "code",
      "source": [
        "t16 = t32.type(torch.float16)\n",
        "print(t16, t16.type)"
      ],
      "metadata": {
        "colab": {
          "base_uri": "https://localhost:8080/"
        },
        "id": "2Fou4QpQWvYX",
        "outputId": "4e8fe206-3d67-4d5d-d9f2-4f454de847c2"
      },
      "execution_count": 16,
      "outputs": [
        {
          "output_type": "stream",
          "name": "stdout",
          "text": [
            "tensor([3., 6., 9.], dtype=torch.float16) <built-in method type of Tensor object at 0x7f58a6d20360>\n"
          ]
        }
      ]
    },
    {
      "cell_type": "code",
      "source": [
        "q=t16*t32\n",
        "print(q, q.type)"
      ],
      "metadata": {
        "colab": {
          "base_uri": "https://localhost:8080/"
        },
        "id": "xJAuYugWW8q4",
        "outputId": "1e0ecb09-5e4b-4f18-b94c-3049688dd075"
      },
      "execution_count": 17,
      "outputs": [
        {
          "output_type": "stream",
          "name": "stdout",
          "text": [
            "tensor([ 9., 36., 81.]) <built-in method type of Tensor object at 0x7f58a6d20130>\n"
          ]
        }
      ]
    },
    {
      "cell_type": "markdown",
      "source": [
        "## Manipulate tensors(tensor operations)"
      ],
      "metadata": {
        "id": "OLR5DPMRYCuZ"
      }
    },
    {
      "cell_type": "code",
      "source": [
        "tensor1 = torch.tensor([1, 2, 3])\n",
        "print(tensor1 + 100, tensor1*10, tensor1 - 10, torch.mul(tensor1, 10))"
      ],
      "metadata": {
        "colab": {
          "base_uri": "https://localhost:8080/"
        },
        "id": "x_GdMbs_XUFO",
        "outputId": "1390feb6-42a2-4344-ac00-8b6ad105ffbb"
      },
      "execution_count": 18,
      "outputs": [
        {
          "output_type": "stream",
          "name": "stdout",
          "text": [
            "tensor([101, 102, 103]) tensor([10, 20, 30]) tensor([-9, -8, -7]) tensor([10, 20, 30])\n"
          ]
        }
      ]
    },
    {
      "cell_type": "code",
      "source": [
        "t1 = torch.tensor([1, 2, 3])\n",
        "t2 = torch.tensor([4, 5, 6])\n",
        "print(t1@t2)\n",
        "print(torch.matmul(t1, t2))"
      ],
      "metadata": {
        "colab": {
          "base_uri": "https://localhost:8080/"
        },
        "id": "ZiGroupLZBvg",
        "outputId": "feb5f21d-735f-4c98-f935-2158f5899aba"
      },
      "execution_count": 19,
      "outputs": [
        {
          "output_type": "stream",
          "name": "stdout",
          "text": [
            "tensor(32)\n",
            "tensor(32)\n"
          ]
        }
      ]
    },
    {
      "cell_type": "code",
      "source": [
        "tensor = torch.rand(100000)"
      ],
      "metadata": {
        "id": "F_NOThFHZkcZ"
      },
      "execution_count": 20,
      "outputs": []
    },
    {
      "cell_type": "code",
      "source": [
        "%%time\n",
        "value = 0\n",
        "for i in range(len(tensor)):\n",
        "  value+=tensor[i]*tensor[i]\n",
        "print(value)"
      ],
      "metadata": {
        "colab": {
          "base_uri": "https://localhost:8080/"
        },
        "id": "oLHg0wIYZrdP",
        "outputId": "afe312c4-229c-404d-cd50-c8ae519270be"
      },
      "execution_count": 21,
      "outputs": [
        {
          "output_type": "stream",
          "name": "stdout",
          "text": [
            "tensor(33361.7148)\n",
            "CPU times: user 1.03 s, sys: 2.36 ms, total: 1.03 s\n",
            "Wall time: 1.12 s\n"
          ]
        }
      ]
    },
    {
      "cell_type": "code",
      "source": [
        "%%time\n",
        "print(tensor@tensor)"
      ],
      "metadata": {
        "colab": {
          "base_uri": "https://localhost:8080/"
        },
        "id": "LOYuL7_6Z81D",
        "outputId": "fba1a814-5cbd-4de7-e283-ceaa90bbf69e"
      },
      "execution_count": 22,
      "outputs": [
        {
          "output_type": "stream",
          "name": "stdout",
          "text": [
            "tensor(33361.9609)\n",
            "CPU times: user 1.97 ms, sys: 0 ns, total: 1.97 ms\n",
            "Wall time: 2.46 ms\n"
          ]
        }
      ]
    },
    {
      "cell_type": "markdown",
      "source": [
        "## min max sum mean"
      ],
      "metadata": {
        "id": "dFFIcOezbSUr"
      }
    },
    {
      "cell_type": "code",
      "source": [
        "t=torch.arange(0, 11, 1.0)\n",
        "print(t.mean(), t.max(), t.min(), t.sum(), t.argmax(), t.argmin() )"
      ],
      "metadata": {
        "colab": {
          "base_uri": "https://localhost:8080/"
        },
        "id": "SePlzMxKbYCB",
        "outputId": "962f12cf-4863-4d57-9915-d608aae79e7c"
      },
      "execution_count": 23,
      "outputs": [
        {
          "output_type": "stream",
          "name": "stdout",
          "text": [
            "tensor(5.) tensor(10.) tensor(0.) tensor(55.) tensor(10) tensor(0)\n"
          ]
        }
      ]
    },
    {
      "cell_type": "markdown",
      "source": [
        "## reshaping stacking squeezing unsqueezing"
      ],
      "metadata": {
        "id": "Zeu0zhB1c5ZY"
      }
    },
    {
      "cell_type": "code",
      "source": [
        "x = torch.arange(1, 10, 1.0)\n",
        "x, x.shape"
      ],
      "metadata": {
        "colab": {
          "base_uri": "https://localhost:8080/"
        },
        "id": "w2fvS3-OdISG",
        "outputId": "9a1e0a42-fbde-4ccb-c1f1-11286b6a1a0b"
      },
      "execution_count": 24,
      "outputs": [
        {
          "output_type": "execute_result",
          "data": {
            "text/plain": [
              "(tensor([1., 2., 3., 4., 5., 6., 7., 8., 9.]), torch.Size([9]))"
            ]
          },
          "metadata": {},
          "execution_count": 24
        }
      ]
    },
    {
      "cell_type": "code",
      "source": [
        "x_reshaped = x.reshape(1, 1, 9)\n",
        "x_reshaped, x_reshaped.shape"
      ],
      "metadata": {
        "colab": {
          "base_uri": "https://localhost:8080/"
        },
        "id": "AW-ohH8vdhDi",
        "outputId": "c3f9f80f-6481-4b31-a191-516473c1ef1c"
      },
      "execution_count": 25,
      "outputs": [
        {
          "output_type": "execute_result",
          "data": {
            "text/plain": [
              "(tensor([[[1., 2., 3., 4., 5., 6., 7., 8., 9.]]]), torch.Size([1, 1, 9]))"
            ]
          },
          "metadata": {},
          "execution_count": 25
        }
      ]
    },
    {
      "cell_type": "code",
      "source": [
        "z = x.view(1, 9)\n",
        "z, z.shape # shares memory"
      ],
      "metadata": {
        "colab": {
          "base_uri": "https://localhost:8080/"
        },
        "id": "PSssOiCvdu_6",
        "outputId": "010b7512-5113-422e-f57a-a039ef8d0264"
      },
      "execution_count": 26,
      "outputs": [
        {
          "output_type": "execute_result",
          "data": {
            "text/plain": [
              "(tensor([[1., 2., 3., 4., 5., 6., 7., 8., 9.]]), torch.Size([1, 9]))"
            ]
          },
          "metadata": {},
          "execution_count": 26
        }
      ]
    },
    {
      "cell_type": "code",
      "source": [
        "x_stacked = torch.stack([x, x,  x, x], dim = 1)\n",
        "x_stacked"
      ],
      "metadata": {
        "colab": {
          "base_uri": "https://localhost:8080/"
        },
        "id": "YC61BjTeeJhy",
        "outputId": "6a31245f-a17a-4720-a9b2-11502fba47e6"
      },
      "execution_count": 27,
      "outputs": [
        {
          "output_type": "execute_result",
          "data": {
            "text/plain": [
              "tensor([[1., 1., 1., 1.],\n",
              "        [2., 2., 2., 2.],\n",
              "        [3., 3., 3., 3.],\n",
              "        [4., 4., 4., 4.],\n",
              "        [5., 5., 5., 5.],\n",
              "        [6., 6., 6., 6.],\n",
              "        [7., 7., 7., 7.],\n",
              "        [8., 8., 8., 8.],\n",
              "        [9., 9., 9., 9.]])"
            ]
          },
          "metadata": {},
          "execution_count": 27
        }
      ]
    },
    {
      "cell_type": "code",
      "source": [
        "x_reshaped, x_reshaped.shape"
      ],
      "metadata": {
        "colab": {
          "base_uri": "https://localhost:8080/"
        },
        "id": "Euoh_WC4egLj",
        "outputId": "537d4b4a-0364-443a-d235-70fef4a7e104"
      },
      "execution_count": 28,
      "outputs": [
        {
          "output_type": "execute_result",
          "data": {
            "text/plain": [
              "(tensor([[[1., 2., 3., 4., 5., 6., 7., 8., 9.]]]), torch.Size([1, 1, 9]))"
            ]
          },
          "metadata": {},
          "execution_count": 28
        }
      ]
    },
    {
      "cell_type": "code",
      "source": [
        "x_reshaped.squeeze()"
      ],
      "metadata": {
        "colab": {
          "base_uri": "https://localhost:8080/"
        },
        "id": "0obVrll6et0R",
        "outputId": "014538e3-6d67-4b1e-ad4c-45adbefd24ae"
      },
      "execution_count": 29,
      "outputs": [
        {
          "output_type": "execute_result",
          "data": {
            "text/plain": [
              "tensor([1., 2., 3., 4., 5., 6., 7., 8., 9.])"
            ]
          },
          "metadata": {},
          "execution_count": 29
        }
      ]
    },
    {
      "cell_type": "code",
      "source": [
        "x_reshaped.squeeze().shape"
      ],
      "metadata": {
        "colab": {
          "base_uri": "https://localhost:8080/"
        },
        "id": "prDO1R3nfAmO",
        "outputId": "39d3861d-9abf-4049-966d-e875fd1120a2"
      },
      "execution_count": 30,
      "outputs": [
        {
          "output_type": "execute_result",
          "data": {
            "text/plain": [
              "torch.Size([9])"
            ]
          },
          "metadata": {},
          "execution_count": 30
        }
      ]
    },
    {
      "cell_type": "code",
      "source": [
        "x_reshaped.unsqueeze(dim=3)"
      ],
      "metadata": {
        "colab": {
          "base_uri": "https://localhost:8080/"
        },
        "id": "CnvhMVcXfZHm",
        "outputId": "ae513f16-0c2f-461a-c417-207bd959f3fd"
      },
      "execution_count": 31,
      "outputs": [
        {
          "output_type": "execute_result",
          "data": {
            "text/plain": [
              "tensor([[[[1.],\n",
              "          [2.],\n",
              "          [3.],\n",
              "          [4.],\n",
              "          [5.],\n",
              "          [6.],\n",
              "          [7.],\n",
              "          [8.],\n",
              "          [9.]]]])"
            ]
          },
          "metadata": {},
          "execution_count": 31
        }
      ]
    },
    {
      "cell_type": "code",
      "source": [
        "x = torch.randn(2, 3, 5)\n",
        "print(x)\n",
        "print(x.size())\n",
        "print(torch.permute(x, (2, 0, 1)).size())\n",
        "print(torch.permute(x, (2, 0, 1)))"
      ],
      "metadata": {
        "colab": {
          "base_uri": "https://localhost:8080/"
        },
        "id": "3kCt6tIifq5Z",
        "outputId": "7793e4df-a70b-4df0-ade1-b0d7d28d9569"
      },
      "execution_count": 32,
      "outputs": [
        {
          "output_type": "stream",
          "name": "stdout",
          "text": [
            "tensor([[[-1.7465,  2.0640,  0.0602,  0.9477, -0.6320],\n",
            "         [ 0.2745, -0.5359, -1.1501,  0.5946,  0.7160],\n",
            "         [ 0.6392, -0.5969,  0.4414, -1.3718, -0.7983]],\n",
            "\n",
            "        [[ 0.0167, -0.4314, -0.2827,  0.0530, -0.2274],\n",
            "         [-1.1039, -1.2416,  0.6899,  1.6428, -0.2388],\n",
            "         [ 1.0195,  0.3242,  0.8288, -0.6479, -0.2028]]])\n",
            "torch.Size([2, 3, 5])\n",
            "torch.Size([5, 2, 3])\n",
            "tensor([[[-1.7465,  0.2745,  0.6392],\n",
            "         [ 0.0167, -1.1039,  1.0195]],\n",
            "\n",
            "        [[ 2.0640, -0.5359, -0.5969],\n",
            "         [-0.4314, -1.2416,  0.3242]],\n",
            "\n",
            "        [[ 0.0602, -1.1501,  0.4414],\n",
            "         [-0.2827,  0.6899,  0.8288]],\n",
            "\n",
            "        [[ 0.9477,  0.5946, -1.3718],\n",
            "         [ 0.0530,  1.6428, -0.6479]],\n",
            "\n",
            "        [[-0.6320,  0.7160, -0.7983],\n",
            "         [-0.2274, -0.2388, -0.2028]]])\n"
          ]
        }
      ]
    },
    {
      "cell_type": "code",
      "source": [
        "import torch\n",
        "x=torch.arange(1, 10).reshape(1, 3, 3)\n",
        "x, x.shape, x[0]"
      ],
      "metadata": {
        "colab": {
          "base_uri": "https://localhost:8080/"
        },
        "id": "tiD4UGx_4iRl",
        "outputId": "cfefecd7-9de8-41c2-e612-d2a94cf359cf"
      },
      "execution_count": 33,
      "outputs": [
        {
          "output_type": "execute_result",
          "data": {
            "text/plain": [
              "(tensor([[[1, 2, 3],\n",
              "          [4, 5, 6],\n",
              "          [7, 8, 9]]]), torch.Size([1, 3, 3]), tensor([[1, 2, 3],\n",
              "         [4, 5, 6],\n",
              "         [7, 8, 9]]))"
            ]
          },
          "metadata": {},
          "execution_count": 33
        }
      ]
    },
    {
      "cell_type": "code",
      "source": [
        "x[0][0][0]"
      ],
      "metadata": {
        "colab": {
          "base_uri": "https://localhost:8080/"
        },
        "id": "uFR_-5h05AyO",
        "outputId": "91e18b6c-a9b8-4884-9eb0-a557c304072b"
      },
      "execution_count": 34,
      "outputs": [
        {
          "output_type": "execute_result",
          "data": {
            "text/plain": [
              "tensor(1)"
            ]
          },
          "metadata": {},
          "execution_count": 34
        }
      ]
    },
    {
      "cell_type": "code",
      "source": [
        "x[:, 0], x[:,1,0 ]"
      ],
      "metadata": {
        "colab": {
          "base_uri": "https://localhost:8080/"
        },
        "id": "L9cedC8m5Syu",
        "outputId": "96867f3d-656f-49c0-8ee2-64ca35ca64c7"
      },
      "execution_count": 35,
      "outputs": [
        {
          "output_type": "execute_result",
          "data": {
            "text/plain": [
              "(tensor([[1, 2, 3]]), tensor([4]))"
            ]
          },
          "metadata": {},
          "execution_count": 35
        }
      ]
    },
    {
      "cell_type": "markdown",
      "source": [
        "## Pytorch and numpy"
      ],
      "metadata": {
        "id": "mX7UX-Xz89sV"
      }
    },
    {
      "cell_type": "code",
      "source": [
        "array = np.arange(1.0, 8.0)\n",
        "tensor = torch.from_numpy(array)\n",
        "array, array.dtype,  tensor"
      ],
      "metadata": {
        "colab": {
          "base_uri": "https://localhost:8080/"
        },
        "id": "CJ_6GE0A9AF2",
        "outputId": "533bcd8e-8a8d-480b-8638-d923d10efde5"
      },
      "execution_count": 36,
      "outputs": [
        {
          "output_type": "execute_result",
          "data": {
            "text/plain": [
              "(array([1., 2., 3., 4., 5., 6., 7.]),\n",
              " dtype('float64'),\n",
              " tensor([1., 2., 3., 4., 5., 6., 7.], dtype=torch.float64))"
            ]
          },
          "metadata": {},
          "execution_count": 36
        }
      ]
    },
    {
      "cell_type": "code",
      "source": [
        "array = array+1\n",
        "array, tensor"
      ],
      "metadata": {
        "colab": {
          "base_uri": "https://localhost:8080/"
        },
        "id": "o2sCgGOB9QUK",
        "outputId": "7a48d28b-c1be-4a9a-8381-09bbfe208e32"
      },
      "execution_count": 37,
      "outputs": [
        {
          "output_type": "execute_result",
          "data": {
            "text/plain": [
              "(array([2., 3., 4., 5., 6., 7., 8.]),\n",
              " tensor([1., 2., 3., 4., 5., 6., 7.], dtype=torch.float64))"
            ]
          },
          "metadata": {},
          "execution_count": 37
        }
      ]
    },
    {
      "cell_type": "code",
      "source": [
        "tensor = torch.ones(7)\n",
        "numpy_tensor = tensor.numpy()\n",
        "tensor, numpy_tensor, numpy_tensor.dtype"
      ],
      "metadata": {
        "colab": {
          "base_uri": "https://localhost:8080/"
        },
        "id": "5a_T6mN_9bDc",
        "outputId": "afa74b2d-ce5b-41ec-d6be-ef16f75add79"
      },
      "execution_count": 38,
      "outputs": [
        {
          "output_type": "execute_result",
          "data": {
            "text/plain": [
              "(tensor([1., 1., 1., 1., 1., 1., 1.]),\n",
              " array([1., 1., 1., 1., 1., 1., 1.], dtype=float32),\n",
              " dtype('float32'))"
            ]
          },
          "metadata": {},
          "execution_count": 38
        }
      ]
    },
    {
      "cell_type": "code",
      "source": [
        "tensor+=1\n",
        "tensor, numpy_tensor"
      ],
      "metadata": {
        "colab": {
          "base_uri": "https://localhost:8080/"
        },
        "id": "OraShrIQ9vHV",
        "outputId": "7e2d8948-e5b4-4cf2-c88d-f16e1da62eaa"
      },
      "execution_count": 39,
      "outputs": [
        {
          "output_type": "execute_result",
          "data": {
            "text/plain": [
              "(tensor([2., 2., 2., 2., 2., 2., 2.]),\n",
              " array([2., 2., 2., 2., 2., 2., 2.], dtype=float32))"
            ]
          },
          "metadata": {},
          "execution_count": 39
        }
      ]
    },
    {
      "cell_type": "markdown",
      "source": [
        "## Reproducability"
      ],
      "metadata": {
        "id": "PCYYJLvH-Y4H"
      }
    },
    {
      "cell_type": "code",
      "source": [
        "RANDOM_SEED = 17\n",
        "torch.manual_seed(RANDOM_SEED)"
      ],
      "metadata": {
        "colab": {
          "base_uri": "https://localhost:8080/"
        },
        "id": "lCXQCfOU-iPL",
        "outputId": "a246be8e-b11e-4c2c-b002-10d7b6dd5ac6"
      },
      "execution_count": 40,
      "outputs": [
        {
          "output_type": "execute_result",
          "data": {
            "text/plain": [
              "<torch._C.Generator at 0x7f594406e710>"
            ]
          },
          "metadata": {},
          "execution_count": 40
        }
      ]
    },
    {
      "cell_type": "code",
      "source": [
        "torch.manual_seed(17)\n",
        "print(torch.rand(3,3))\n",
        "torch.manual_seed(17)\n",
        "print(torch.rand(3,3))"
      ],
      "metadata": {
        "id": "-vPdSE_U90SU",
        "colab": {
          "base_uri": "https://localhost:8080/"
        },
        "outputId": "6466ec98-59bb-4f5d-fd59-e50e28fef177"
      },
      "execution_count": 41,
      "outputs": [
        {
          "output_type": "stream",
          "name": "stdout",
          "text": [
            "tensor([[0.4342, 0.5351, 0.8302],\n",
            "        [0.1239, 0.0293, 0.5494],\n",
            "        [0.3825, 0.5463, 0.4683]])\n",
            "tensor([[0.4342, 0.5351, 0.8302],\n",
            "        [0.1239, 0.0293, 0.5494],\n",
            "        [0.3825, 0.5463, 0.4683]])\n"
          ]
        }
      ]
    },
    {
      "cell_type": "markdown",
      "source": [
        "## Running on GPUs"
      ],
      "metadata": {
        "id": "YO3KUWQViRC_"
      }
    },
    {
      "cell_type": "code",
      "source": [
        " !nvidia-smi"
      ],
      "metadata": {
        "id": "dOpQOSku-gxj",
        "colab": {
          "base_uri": "https://localhost:8080/"
        },
        "outputId": "9cc718c3-f8a4-490e-b9d7-571e87a7e6f1"
      },
      "execution_count": 42,
      "outputs": [
        {
          "output_type": "stream",
          "name": "stdout",
          "text": [
            "Fri Mar  3 12:57:12 2023       \n",
            "+-----------------------------------------------------------------------------+\n",
            "| NVIDIA-SMI 525.85.12    Driver Version: 525.85.12    CUDA Version: 12.0     |\n",
            "|-------------------------------+----------------------+----------------------+\n",
            "| GPU  Name        Persistence-M| Bus-Id        Disp.A | Volatile Uncorr. ECC |\n",
            "| Fan  Temp  Perf  Pwr:Usage/Cap|         Memory-Usage | GPU-Util  Compute M. |\n",
            "|                               |                      |               MIG M. |\n",
            "|===============================+======================+======================|\n",
            "|   0  Tesla T4            Off  | 00000000:00:04.0 Off |                    0 |\n",
            "| N/A   53C    P0    26W /  70W |      0MiB / 15360MiB |      0%      Default |\n",
            "|                               |                      |                  N/A |\n",
            "+-------------------------------+----------------------+----------------------+\n",
            "                                                                               \n",
            "+-----------------------------------------------------------------------------+\n",
            "| Processes:                                                                  |\n",
            "|  GPU   GI   CI        PID   Type   Process name                  GPU Memory |\n",
            "|        ID   ID                                                   Usage      |\n",
            "|=============================================================================|\n",
            "|  No running processes found                                                 |\n",
            "+-----------------------------------------------------------------------------+\n"
          ]
        }
      ]
    },
    {
      "cell_type": "code",
      "source": [
        "torch.cuda.is_available()"
      ],
      "metadata": {
        "colab": {
          "base_uri": "https://localhost:8080/"
        },
        "id": "2EgeLjoXjF4X",
        "outputId": "690c258b-e7c3-4b3b-b74e-675d6f25ebdf"
      },
      "execution_count": 45,
      "outputs": [
        {
          "output_type": "execute_result",
          "data": {
            "text/plain": [
              "True"
            ]
          },
          "metadata": {},
          "execution_count": 45
        }
      ]
    },
    {
      "cell_type": "code",
      "source": [
        "device = 'cuda' if torch.cuda.is_available() else 'cpu'\n",
        "device"
      ],
      "metadata": {
        "colab": {
          "base_uri": "https://localhost:8080/",
          "height": 36
        },
        "id": "9AvLkpqijVQP",
        "outputId": "ac70cda4-99a5-4cd2-cbbe-8547ed59c3fe"
      },
      "execution_count": 47,
      "outputs": [
        {
          "output_type": "execute_result",
          "data": {
            "text/plain": [
              "'cuda'"
            ],
            "application/vnd.google.colaboratory.intrinsic+json": {
              "type": "string"
            }
          },
          "metadata": {},
          "execution_count": 47
        }
      ]
    },
    {
      "cell_type": "code",
      "source": [
        "tensor = torch.tensor([1, 2, 3])\n",
        "print(tensor, tensor.device)\n",
        "tensor_on_gpu = tensor.to(device)\n",
        "tensor_on_gpu"
      ],
      "metadata": {
        "colab": {
          "base_uri": "https://localhost:8080/"
        },
        "id": "aYo3W0YrjfVN",
        "outputId": "481f0ef7-5480-4272-d5f5-0582e5cb02c9"
      },
      "execution_count": 50,
      "outputs": [
        {
          "output_type": "stream",
          "name": "stdout",
          "text": [
            "tensor([1, 2, 3]) cpu\n"
          ]
        },
        {
          "output_type": "execute_result",
          "data": {
            "text/plain": [
              "tensor([1, 2, 3], device='cuda:0')"
            ]
          },
          "metadata": {},
          "execution_count": 50
        }
      ]
    },
    {
      "cell_type": "code",
      "source": [
        "tensor_on_gpu.cpu().numpy()"
      ],
      "metadata": {
        "colab": {
          "base_uri": "https://localhost:8080/"
        },
        "id": "xSTlwepxkbR2",
        "outputId": "44581db3-a4a2-4e23-93a3-289cfb6b953d"
      },
      "execution_count": 54,
      "outputs": [
        {
          "output_type": "execute_result",
          "data": {
            "text/plain": [
              "array([1, 2, 3])"
            ]
          },
          "metadata": {},
          "execution_count": 54
        }
      ]
    },
    {
      "cell_type": "markdown",
      "source": [
        "## Excercises"
      ],
      "metadata": {
        "id": "YP1noWUJlFrn"
      }
    },
    {
      "cell_type": "code",
      "source": [
        " t = torch.rand(7,7)\n",
        " t"
      ],
      "metadata": {
        "colab": {
          "base_uri": "https://localhost:8080/"
        },
        "id": "xTRByZbukk4G",
        "outputId": "387351e6-817b-4379-8576-f887974993c1"
      },
      "execution_count": 56,
      "outputs": [
        {
          "output_type": "execute_result",
          "data": {
            "text/plain": [
              "tensor([[0.8332, 0.1881, 0.8861, 0.1981, 0.8292, 0.1838, 0.4057],\n",
              "        [0.0857, 0.0790, 0.2276, 0.5196, 0.1927, 0.6934, 0.6373],\n",
              "        [0.2512, 0.0572, 0.3289, 0.1095, 0.9190, 0.6748, 0.3235],\n",
              "        [0.0211, 0.1005, 0.8881, 0.4026, 0.7276, 0.9617, 0.3762],\n",
              "        [0.7566, 0.8149, 0.0067, 0.7674, 0.3557, 0.5313, 0.2605],\n",
              "        [0.5533, 0.2901, 0.4313, 0.9055, 0.1943, 0.5258, 0.6361],\n",
              "        [0.3020, 0.2296, 0.4642, 0.0173, 0.9359, 0.8045, 0.9365]])"
            ]
          },
          "metadata": {},
          "execution_count": 56
        }
      ]
    },
    {
      "cell_type": "code",
      "source": [
        "t @ torch.rand(1, 7).T"
      ],
      "metadata": {
        "colab": {
          "base_uri": "https://localhost:8080/"
        },
        "id": "SUI49FUKlO81",
        "outputId": "abc84933-ddeb-42e9-bd03-88a4f9edb434"
      },
      "execution_count": 58,
      "outputs": [
        {
          "output_type": "execute_result",
          "data": {
            "text/plain": [
              "tensor([[1.4492],\n",
              "        [0.9016],\n",
              "        [0.8579],\n",
              "        [1.4174],\n",
              "        [1.1205],\n",
              "        [1.3256],\n",
              "        [1.4961]])"
            ]
          },
          "metadata": {},
          "execution_count": 58
        }
      ]
    },
    {
      "cell_type": "code",
      "source": [
        "torch.manual_seed(17)\n",
        "torch.rand(7, 7) @ torch.rand(1, 7).T"
      ],
      "metadata": {
        "colab": {
          "base_uri": "https://localhost:8080/"
        },
        "id": "NJV0u84DlaU8",
        "outputId": "c16d1cd8-39fc-4708-d323-405bde9a30bb"
      },
      "execution_count": 59,
      "outputs": [
        {
          "output_type": "execute_result",
          "data": {
            "text/plain": [
              "tensor([[1.8646],\n",
              "        [0.9665],\n",
              "        [0.7699],\n",
              "        [0.9026],\n",
              "        [1.9079],\n",
              "        [2.3049],\n",
              "        [1.9849]])"
            ]
          },
          "metadata": {},
          "execution_count": 59
        }
      ]
    },
    {
      "cell_type": "code",
      "source": [
        "torch.cuda.manual_seed_all(13)"
      ],
      "metadata": {
        "id": "f-p4wopTl9tn"
      },
      "execution_count": 61,
      "outputs": []
    },
    {
      "cell_type": "code",
      "source": [
        "torch.manual_seed(1234)\n",
        "t1 = torch.rand(2,3)\n",
        "t2 = torch.rand(2,3)\n",
        "t1_on_gpu = t1.to(device)\n",
        "t2_on_gpu = t2.to(device)\n",
        "t1_on_gpu @ t2_on_gpu.T"
      ],
      "metadata": {
        "colab": {
          "base_uri": "https://localhost:8080/"
        },
        "id": "Ht57Oqxhmj2-",
        "outputId": "02d40526-473d-424b-947e-8c580d156151"
      },
      "execution_count": 62,
      "outputs": [
        {
          "output_type": "execute_result",
          "data": {
            "text/plain": [
              "tensor([[0.3647, 0.4709],\n",
              "        [0.5184, 0.5617]], device='cuda:0')"
            ]
          },
          "metadata": {},
          "execution_count": 62
        }
      ]
    },
    {
      "cell_type": "code",
      "source": [
        "%%time\n",
        "t1 = torch.rand(2000,3000)\n",
        "t2 = torch.rand(2000,3000)\n",
        "t1 @ t2.T"
      ],
      "metadata": {
        "colab": {
          "base_uri": "https://localhost:8080/"
        },
        "id": "T-DAaRbUnCmG",
        "outputId": "7fbbf039-831e-43cd-c549-563dfeb8ab30"
      },
      "execution_count": 64,
      "outputs": [
        {
          "output_type": "stream",
          "name": "stdout",
          "text": [
            "CPU times: user 377 ms, sys: 21.8 ms, total: 399 ms\n",
            "Wall time: 396 ms\n"
          ]
        },
        {
          "output_type": "execute_result",
          "data": {
            "text/plain": [
              "tensor([[755.6994, 737.2620, 752.6906,  ..., 765.2333, 759.4401, 752.1733],\n",
              "        [754.5306, 733.7271, 755.7218,  ..., 773.9648, 761.2938, 759.0201],\n",
              "        [732.1247, 733.5848, 743.1209,  ..., 758.9544, 747.1078, 743.8867],\n",
              "        ...,\n",
              "        [751.9510, 739.3509, 744.2640,  ..., 764.4525, 758.4830, 749.6667],\n",
              "        [752.2545, 738.8751, 759.6933,  ..., 768.4635, 755.1854, 763.2642],\n",
              "        [724.8327, 710.9528, 723.4463,  ..., 731.2103, 735.0467, 732.1033]])"
            ]
          },
          "metadata": {},
          "execution_count": 64
        }
      ]
    },
    {
      "cell_type": "code",
      "source": [
        "%%time\n",
        "t2_on_gpu = t2.to(device)\n",
        "t1_on_gpu = t1.to(device)"
      ],
      "metadata": {
        "colab": {
          "base_uri": "https://localhost:8080/"
        },
        "id": "n-RZDHP6nKE8",
        "outputId": "d6980aed-0811-40a4-ea78-34ee45f9e6e9"
      },
      "execution_count": 65,
      "outputs": [
        {
          "output_type": "stream",
          "name": "stdout",
          "text": [
            "CPU times: user 13.8 ms, sys: 0 ns, total: 13.8 ms\n",
            "Wall time: 14.8 ms\n"
          ]
        }
      ]
    },
    {
      "cell_type": "code",
      "source": [
        "%%time\n",
        "a = t1_on_gpu @ t2_on_gpu.T"
      ],
      "metadata": {
        "colab": {
          "base_uri": "https://localhost:8080/"
        },
        "id": "8vHMYnKnnWub",
        "outputId": "f2daf748-ac5c-46c2-8c2c-a2369bb94e28"
      },
      "execution_count": 68,
      "outputs": [
        {
          "output_type": "stream",
          "name": "stdout",
          "text": [
            "CPU times: user 535 µs, sys: 949 µs, total: 1.48 ms\n",
            "Wall time: 842 µs\n"
          ]
        }
      ]
    },
    {
      "cell_type": "code",
      "source": [
        "a.max(), a.min(), a.argmax(), a.argmin()"
      ],
      "metadata": {
        "colab": {
          "base_uri": "https://localhost:8080/"
        },
        "id": "kgJX-ZPmnjnm",
        "outputId": "08feb2ac-5f44-4025-c336-9d7b135bd5cb"
      },
      "execution_count": 69,
      "outputs": [
        {
          "output_type": "execute_result",
          "data": {
            "text/plain": [
              "(tensor(807.9458, device='cuda:0'),\n",
              " tensor(687.5092, device='cuda:0'),\n",
              " tensor(315765, device='cuda:0'),\n",
              " tensor(3478063, device='cuda:0'))"
            ]
          },
          "metadata": {},
          "execution_count": 69
        }
      ]
    },
    {
      "cell_type": "code",
      "source": [
        "torch.manual_seed(7)\n",
        "t10 = torch.rand(1, 1, 1, 10)\n",
        "t10, t10.shape"
      ],
      "metadata": {
        "colab": {
          "base_uri": "https://localhost:8080/"
        },
        "id": "hBXAmYcmnq5C",
        "outputId": "803e6746-dc5f-46c9-8fc5-65496686a431"
      },
      "execution_count": 73,
      "outputs": [
        {
          "output_type": "execute_result",
          "data": {
            "text/plain": [
              "(tensor([[[[0.5349, 0.1988, 0.6592, 0.6569, 0.2328, 0.4251, 0.2071, 0.6297,\n",
              "            0.3653, 0.8513]]]]), torch.Size([1, 1, 1, 10]))"
            ]
          },
          "metadata": {},
          "execution_count": 73
        }
      ]
    },
    {
      "cell_type": "code",
      "source": [
        "t10.squeeze().shape, t10.squeeze()"
      ],
      "metadata": {
        "colab": {
          "base_uri": "https://localhost:8080/"
        },
        "id": "ZmqYf9JiowPq",
        "outputId": "e1585993-7448-4164-d8e2-7c6e10b4fbe6"
      },
      "execution_count": 83,
      "outputs": [
        {
          "output_type": "execute_result",
          "data": {
            "text/plain": [
              "(torch.Size([10]),\n",
              " tensor([0.5349, 0.1988, 0.6592, 0.6569, 0.2328, 0.4251, 0.2071, 0.6297, 0.3653,\n",
              "         0.8513]))"
            ]
          },
          "metadata": {},
          "execution_count": 83
        }
      ]
    },
    {
      "cell_type": "code",
      "source": [],
      "metadata": {
        "id": "52GURrYNpl9T"
      },
      "execution_count": null,
      "outputs": []
    }
  ]
}